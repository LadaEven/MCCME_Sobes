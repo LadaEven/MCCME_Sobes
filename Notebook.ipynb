{
  "nbformat": 4,
  "nbformat_minor": 0,
  "metadata": {
    "colab": {
      "name": "Untitled1.ipynb",
      "provenance": [],
      "collapsed_sections": []
    },
    "kernelspec": {
      "name": "python3",
      "display_name": "Python 3"
    }
  },
  "cells": [
    {
      "cell_type": "markdown",
      "metadata": {
        "id": "BHbXKpTeOUjC",
        "colab_type": "text"
      },
      "source": [
        "Задача 1 Алгоритм евклида"
      ]
    },
    {
      "cell_type": "code",
      "metadata": {
        "id": "N_ABTt5YOYW8",
        "colab_type": "code",
        "colab": {}
      },
      "source": [
        "def euclid (a,b):\n",
        "  f_n = max(a,b)\n",
        "  s_n = min(a,b)\n",
        "  if f_n % s_n == 0: return s_n\n",
        "  else: \n",
        "    temp = s_n\n",
        "    s_n = f_n % s_n\n",
        "    f_n = temp\n",
        "    return euclid(f_n, s_n)"
      ],
      "execution_count": null,
      "outputs": []
    },
    {
      "cell_type": "markdown",
      "metadata": {
        "id": "EjJqJxf9Oyfh",
        "colab_type": "text"
      },
      "source": [
        "Задача 2. Пример полукольца, но не кольца -- это неотрицательные числа с стандартными операциями слодения и умножения, у ненулевых элементов там нет обратного."
      ]
    },
    {
      "cell_type": "markdown",
      "metadata": {
        "id": "IwUPs6iANxS5",
        "colab_type": "text"
      },
      "source": [
        "\n",
        "\n",
        "Задача 3. Это наивная реализация алгоритма поиска подстроки в строке:\n",
        "она работает в худшем случае за (длина строки)*(длина подстроки) операций. В лучшем случае она работает за линию (это если префикс искомой строки сильно отличается от строки, в которой ищем.\n",
        "\n"
      ]
    },
    {
      "cell_type": "code",
      "metadata": {
        "id": "2ssFjsMtBt2Q",
        "colab_type": "code",
        "colab": {}
      },
      "source": [
        "def find_substring ( needle , haysack):\n",
        "    for i in range(len(haysack)+1):\n",
        "      for j in range(len(needle)+1):\n",
        "        print ( haysack[i:i+j] + \" \" + str(i) + \" \" + str(j) + \" \" + needle[:j])\n",
        "        if haysack[i:i+j] != needle[:j]:\n",
        "          print (\"going back\") \n",
        "          break\n",
        "        if j == len(needle):\n",
        "          return j\n",
        "    return \"not found\"\n",
        "          "
      ],
      "execution_count": 41,
      "outputs": []
    },
    {
      "cell_type": "code",
      "metadata": {
        "id": "wLRImBhoC9gM",
        "colab_type": "code",
        "colab": {
          "base_uri": "https://localhost:8080/",
          "height": 504
        },
        "outputId": "4f38fd96-53ee-48e6-e45b-59ec9b3a2612"
      },
      "source": [
        "find_substring(\"привет\" , \"окей, привет\")"
      ],
      "execution_count": 44,
      "outputs": [
        {
          "output_type": "stream",
          "text": [
            " 0 0 \n",
            "о 0 1 п\n",
            "going back\n",
            " 1 0 \n",
            "к 1 1 п\n",
            "going back\n",
            " 2 0 \n",
            "е 2 1 п\n",
            "going back\n",
            " 3 0 \n",
            "й 3 1 п\n",
            "going back\n",
            " 4 0 \n",
            ", 4 1 п\n",
            "going back\n",
            " 5 0 \n",
            "  5 1 п\n",
            "going back\n",
            " 6 0 \n",
            "п 6 1 п\n",
            "пр 6 2 пр\n",
            "при 6 3 при\n",
            "прив 6 4 прив\n",
            "приве 6 5 приве\n",
            "привет 6 6 привет\n"
          ],
          "name": "stdout"
        },
        {
          "output_type": "execute_result",
          "data": {
            "text/plain": [
              "6"
            ]
          },
          "metadata": {
            "tags": []
          },
          "execution_count": 44
        }
      ]
    },
    {
      "cell_type": "markdown",
      "metadata": {
        "id": "J52gOuQNPJ-U",
        "colab_type": "text"
      },
      "source": [
        "Задача 4 tree бинарное дерево\n",
        "superior -- функция, которая проверяет больше ли тестируемый элемент наибольшего элемента дерева\n",
        "\n",
        "insert -- функция, которая вставляет элемент в бинарное дерево так, чтобы он был больше левых потомков своего родителя, и меньше правых потомков своих родителя. Мы вставляем элемент, начиная с корня, двигаясь вниз по дереву, если элемент меньше поддерева, то спускаемся влево, а если больше -- то вправо.\n",
        "\n",
        "buildTree строит дерево по массиву, вставляя вершину за вершиной с сохранением порядка.\n",
        "\n",
        "traverseTree -- обход дерева, что каждое поддерево обходим слева направо.\n",
        "\n",
        "мы применяем композицию функций traverseTree и buildTree к массиву, сначала строим дерево, потом его считываем. Так получаем отсортированную по возрастанию последовательность.\n",
        "\n",
        "Для меня непонятно, почему Branch не имеет отдельного параметра для созранения вершины -- корня дерева. Мне кажется, что\n",
        "\n",
        "Branch надо задать как Ord a => Leaf a -> Tree a -> Tree a -> Tree a"
      ]
    },
    {
      "cell_type": "markdown",
      "metadata": {
        "id": "15lSgGDTRiQt",
        "colab_type": "text"
      },
      "source": [
        "В лучшем случае мы справимся за O(n * ln_2(n)) операций, мы будем примерно ln_2(n) времени двигаться вниз по дереву, и так для n вершин.\n",
        "После сбора дерева, мы будем обходить дерево примерно O(n), посетя каждую вершину по одному разу.\n",
        "\n",
        "Чтобы улучшить скорость работы можно брать массив, где нет монотонных последовательностей, которые будут создавать длинные цепочки в дереве.\n",
        "Может, ещё можно перебалансировать дерево."
      ]
    },
    {
      "cell_type": "markdown",
      "metadata": {
        "id": "Uxl53FHoTszG",
        "colab_type": "text"
      },
      "source": [
        "5. \n",
        "\n",
        "См . также черновики, в них есть картинка и подсчёт рядов.\n",
        "\n",
        "Если мы имеем E(s) -- матожидание для количества шагов, на котором будет s разных точек, то верно следующее уравнение.\n",
        "\n",
        "E(s+1) = (E(s) + 1 ) * \\frac{n-s}{n} + (E(s) + 2) * \\frac{n-s * s}{n^2} + ....\n",
        "\n",
        "Это превращается в E(s) * \\frac{n-s}{n} \\frac{1}{1-s/n} + \n",
        "\n",
        "\\frac{n-s}{n} \\frac{1}{1- (s/n)2}^2\n",
        "\n",
        " Так получается, потому что мы просуммировали два бесконечных ряда, один как геом.прогрессию, а лругой, как производную геом.прогрессии\n",
        "\n",
        "Пометим \\frac{1}{1-s/n} как q_s\n",
        "\n",
        "Тогда 1 - s/n  = 1 / q_s\n",
        "\n",
        "тогда E(s+1) =  E(s) +  q_s\n",
        "\n",
        "Тогда Тогда E(k) = E_1 + q_1 + q_2 + q_3 ... + q_(k-1)\n",
        "\n",
        "E_1 = 1 в первый раз мы всегда берём точку.\n",
        "\n",
        "\n",
        "Ответ!!\n",
        "1 + 1/ (1 - 1/n) + 1/ (1- 2/n ) +  +  1/ (1 - k-1/n)"
      ]
    }
  ]
}
